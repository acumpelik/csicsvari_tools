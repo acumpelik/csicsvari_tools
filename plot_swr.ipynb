{
 "cells": [
  {
   "cell_type": "code",
   "execution_count": 95,
   "id": "4e5a7910-cf85-4b7b-b061-0ff4370aa36e",
   "metadata": {
    "tags": []
   },
   "outputs": [],
   "source": [
    "import os\n",
    "import csv\n",
    "import matplotlib.pyplot as plt\n",
    "import numpy as np"
   ]
  },
  {
   "cell_type": "markdown",
   "id": "c0e8bd32-a0a8-431a-ba55-4db9c2b887df",
   "metadata": {},
   "source": [
    "### Set session info and path"
   ]
  },
  {
   "cell_type": "code",
   "execution_count": 96,
   "id": "5f6e61eb-bb4b-4fad-9279-1db0c01cfb20",
   "metadata": {
    "tags": []
   },
   "outputs": [],
   "source": [
    "animal_name='JC315'\n",
    "date='20240406'\n",
    "\n",
    "basedir = \"/mnt/adata11/\"\n",
    "mbasedir=\"/adata_pool/merged/\"+animal_name+'-'+date+'/'\n",
    "\n",
    "basename = animal_name+'-'+date"
   ]
  },
  {
   "cell_type": "markdown",
   "id": "00e06365-5b58-41cc-aee9-c174251eb585",
   "metadata": {},
   "source": [
    "### Import metadata"
   ]
  },
  {
   "cell_type": "code",
   "execution_count": 97,
   "id": "c9e2c782-f6bc-444f-a6bb-1110144b6179",
   "metadata": {
    "tags": []
   },
   "outputs": [
    {
     "name": "stdout",
     "output_type": "stream",
     "text": [
      "Metadata for JC315-20240406\n"
     ]
    },
    {
     "data": {
      "text/plain": [
       "{'num_tetr': '32',\n",
       " 'last_pfc_left': '8',\n",
       " 'last_pfc_right': '16',\n",
       " 'session_names': \"['presleep','training1','intersleep','training2','postsleep']\",\n",
       " 'session_idx': '[[1],[2],[3,4,5],[6],[7]]',\n",
       " 'reward_arms': '7,2',\n",
       " 'rewards': 'C,S'}"
      ]
     },
     "execution_count": 97,
     "metadata": {},
     "output_type": "execute_result"
    }
   ],
   "source": [
    "session_metadata = {}\n",
    "with open('session_metadata.csv', mode='r', encoding='utf-8') as file:\n",
    "    reader = csv.DictReader(file, delimiter=\";\")    \n",
    "    for line in reader:\n",
    "        session_id = line.pop('session_id')\n",
    "        session_metadata[session_id] = line\n",
    "        \n",
    "print('Metadata for',basename)\n",
    "session_metadata[basename]"
   ]
  },
  {
   "cell_type": "markdown",
   "id": "6486703b-b206-4623-b227-d1fc9da33224",
   "metadata": {},
   "source": [
    "### Set sampling rate and adjust imported metadata"
   ]
  },
  {
   "cell_type": "code",
   "execution_count": 98,
   "id": "b9508ce2-c099-4968-a30a-c035e8cec16f",
   "metadata": {
    "tags": []
   },
   "outputs": [],
   "source": [
    "sample_rate_res_old=24000\n",
    "sample_rate_res=20000\n",
    "sample_rate_eeg=1250\n",
    "downsampled_res=sample_rate_res/sample_rate_res_old\n",
    "\n",
    "num_tetrodes = int(session_metadata[basename]['num_tetr'])\n",
    "session_names = eval(session_metadata[basename]['session_names'])\n",
    "num_channels = 128"
   ]
  },
  {
   "cell_type": "markdown",
   "id": "37eea56d-d652-494f-9f4b-3ebdd0162f20",
   "metadata": {
    "tags": []
   },
   "source": [
    "### Import and merge swr files"
   ]
  },
  {
   "cell_type": "code",
   "execution_count": 99,
   "id": "7e6174ef-ba9b-430e-80a0-f65834eb99ce",
   "metadata": {
    "tags": []
   },
   "outputs": [],
   "source": [
    "sw_merged = []\n",
    "\n",
    "for ii in range(len(session_names)):\n",
    "    sw_file = np.loadtxt(mbasedir+basename+'_'+session_names[ii]+'.sw',dtype=int)\n",
    "    sw_merged.append(sw_file)\n",
    "    \n",
    "sw_merged = np.vstack(sw_merged)"
   ]
  },
  {
   "cell_type": "markdown",
   "id": "f5121d66-c326-4e4c-9049-337b942526c0",
   "metadata": {},
   "source": [
    "### Import and merge eeg files"
   ]
  },
  {
   "cell_type": "code",
   "execution_count": 124,
   "id": "1694e689-c420-483a-b9c8-26a9ae0f743c",
   "metadata": {
    "tags": []
   },
   "outputs": [],
   "source": [
    "def find_files_with_eeg(directory):\n",
    "    eeg_files = []\n",
    "    for root, dirs, files in os.walk(directory):\n",
    "        for file in files:\n",
    "            if file.endswith('.eeg'):\n",
    "                eeg_files.append(os.path.join(root, file))\n",
    "                \n",
    "    return eeg_files"
   ]
  },
  {
   "cell_type": "code",
   "execution_count": 125,
   "id": "ff384740-b6ef-4931-9f9b-54e869ff0da7",
   "metadata": {
    "tags": []
   },
   "outputs": [],
   "source": [
    "eeg_files=sorted(find_files_with_eeg(mbasedir))"
   ]
  },
  {
   "cell_type": "code",
   "execution_count": 126,
   "id": "cf948651-c3ac-4dc7-bc33-e88afeb9304f",
   "metadata": {
    "tags": []
   },
   "outputs": [
    {
     "name": "stdout",
     "output_type": "stream",
     "text": [
      "Reshaping /adata_pool/merged/JC315-20240406/JC315-20240406_intersleep.eeg from length (573687936,)\n",
      "New eeg_merged shape: (4481937, 128)\n"
     ]
    }
   ],
   "source": [
    "eeg_merged=np.fromfile(eeg_files[0], dtype=np.int16)\n",
    "print('Reshaping',eeg_files[0],'from length',eeg_merged.shape)\n",
    "eeg_merged= eeg_merged.reshape(int(len(eeg_merged)/num_channels),num_channels)\n",
    "print('New eeg_merged shape:',eeg_merged.shape)"
   ]
  },
  {
   "cell_type": "code",
   "execution_count": 127,
   "id": "dceddb8c-5878-40b3-8943-810823d7efc3",
   "metadata": {
    "tags": []
   },
   "outputs": [],
   "source": [
    "eeg=np.fromfile(eeg_files[0], dtype=np.int16)"
   ]
  },
  {
   "cell_type": "code",
   "execution_count": 135,
   "id": "310a1988-03cf-472b-81f1-02b2813ee369",
   "metadata": {
    "tags": []
   },
   "outputs": [
    {
     "name": "stdout",
     "output_type": "stream",
     "text": [
      "eeg_merged shape: (4481937, 128)\n",
      "sw_merged shape: (6925, 3)\n"
     ]
    }
   ],
   "source": [
    "print('eeg_merged shape:',eeg_merged.shape)\n",
    "print('sw_merged shape:',sw_merged.shape)"
   ]
  },
  {
   "cell_type": "code",
   "execution_count": 138,
   "id": "9570ad9a-6e2c-40a2-9647-45fad9b61588",
   "metadata": {
    "tags": []
   },
   "outputs": [
    {
     "name": "stdout",
     "output_type": "stream",
     "text": [
      "Resampled session timestamps: [0.00000000e+00 7.20001225e+07 1.17216620e+08 1.55038118e+08\n",
      " 1.55875740e+08 1.88927612e+08 2.32498860e+08 3.04498982e+08]\n"
     ]
    }
   ],
   "source": [
    "# load the session timestamps and downsample them\n",
    "session_timestamps=np.loadtxt(basedir+\"processing/\"+animal_name+'/'+date+'/'+'session_shifts.txt')\n",
    "\n",
    "session_timestamps=np.append([0],session_timestamps) # start the first timestamp at 0\n",
    "session_timestamps_down=session_timestamps*downsampled_res\n",
    "print('Resampled session timestamps:',session_timestamps_down)"
   ]
  },
  {
   "cell_type": "code",
   "execution_count": 147,
   "id": "a2ae3d47-bcb8-46f8-b431-1545c91f3c21",
   "metadata": {
    "tags": []
   },
   "outputs": [
    {
     "data": {
      "text/plain": [
       "array([[   1771,    1813,    1898],\n",
       "       [   7149,    7173,    7208],\n",
       "       [   8075,    8108,    8159],\n",
       "       ...,\n",
       "       [4459414, 4459446, 4459476],\n",
       "       [4464855, 4464920, 4464981],\n",
       "       [4481724, 4481753, 4481775]])"
      ]
     },
     "execution_count": 147,
     "metadata": {},
     "output_type": "execute_result"
    }
   ],
   "source": [
    "sw_merged"
   ]
  },
  {
   "cell_type": "code",
   "execution_count": 158,
   "id": "5418722b-7910-4d66-83f5-9989f395a2fc",
   "metadata": {
    "tags": []
   },
   "outputs": [
    {
     "name": "stdout",
     "output_type": "stream",
     "text": [
      "4\n"
     ]
    },
    {
     "data": {
      "text/plain": [
       "[<matplotlib.lines.Line2D at 0x7f5b373890a0>]"
      ]
     },
     "execution_count": 158,
     "metadata": {},
     "output_type": "execute_result"
    },
    {
     "data": {
      "image/png": "[encoded data removed]",
      "text/plain": [
       "<Figure size 640x480 with 1 Axes>"
      ]
     },
     "metadata": {},
     "output_type": "display_data"
    }
   ],
   "source": [
    "tetrode=1\n",
    "channel=(tetrode*4)\n",
    "print(channel)\n",
    "channel=8\n",
    "\n",
    "plt.plot(eeg_merged[4459414:4459476,channel])"
   ]
  }
 ],
 "metadata": {
  "kernelspec": {
   "display_name": "Python 3 (ipykernel)",
   "language": "python",
   "name": "python3"
  },
  "language_info": {
   "codemirror_mode": {
    "name": "ipython",
    "version": 3
   },
   "file_extension": ".py",
   "mimetype": "text/x-python",
   "name": "python",
   "nbconvert_exporter": "python",
   "pygments_lexer": "ipython3",
   "version": "3.9.18"
  }
 },
 "nbformat": 4,
 "nbformat_minor": 5
}
