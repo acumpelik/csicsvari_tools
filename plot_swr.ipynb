{
 "cells": [
  {
   "cell_type": "code",
   "execution_count": 14,
   "id": "4e5a7910-cf85-4b7b-b061-0ff4370aa36e",
   "metadata": {
    "tags": []
   },
   "outputs": [],
   "source": [
    "import os\n",
    "import csv\n",
    "import matplotlib.pyplot as plt\n",
    "import numpy as np"
   ]
  },
  {
   "cell_type": "code",
   "execution_count": 18,
   "id": "5f6e61eb-bb4b-4fad-9279-1db0c01cfb20",
   "metadata": {
    "tags": []
   },
   "outputs": [],
   "source": [
    "animal_name='JC315'\n",
    "date='20240406'\n",
    "\n",
    "basedir = \"/mnt/adata11/\"\n",
    "mbasedir=\"/adata_pool/merged/\"+animal_name+'-'+date+'/'\n",
    "\n",
    "basename = animal_name+'-'+date"
   ]
  },
  {
   "cell_type": "code",
   "execution_count": 19,
   "id": "c9e2c782-f6bc-444f-a6bb-1110144b6179",
   "metadata": {
    "tags": []
   },
   "outputs": [
    {
     "name": "stdout",
     "output_type": "stream",
     "text": [
      "Metadata for JC315-20240406\n"
     ]
    },
    {
     "data": {
      "text/plain": [
       "{'num_tetr': '32',\n",
       " 'last_pfc_left': '8',\n",
       " 'last_pfc_right': '16',\n",
       " 'session_names': \"['presleep','training1','intersleep','training2','postsleep']\",\n",
       " 'session_idx': '[[1],[2],[3,4,5],[6],[7]]',\n",
       " 'reward_arms': '7,2',\n",
       " 'rewards': 'C,S'}"
      ]
     },
     "execution_count": 19,
     "metadata": {},
     "output_type": "execute_result"
    }
   ],
   "source": [
    "session_metadata = {}\n",
    "with open('session_metadata.csv', mode='r', encoding='utf-8') as file:\n",
    "    reader = csv.DictReader(file, delimiter=\";\")    \n",
    "    for line in reader:\n",
    "        session_id = line.pop('session_id')\n",
    "        session_metadata[session_id] = line\n",
    "        \n",
    "print('Metadata for',basename)\n",
    "session_metadata[basename]"
   ]
  },
  {
   "cell_type": "code",
   "execution_count": 20,
   "id": "c95472c5-8a4b-46c6-8d8c-4d2bd2f1eb6b",
   "metadata": {
    "tags": []
   },
   "outputs": [],
   "source": [
    "sample_rate_res_old=24000\n",
    "sample_rate_res=20000\n",
    "sample_rate_eeg=1250\n",
    "downsampled_res=sample_rate_res/sample_rate_res_old\n",
    "num_tetrodes = int(session_metadata[basename]['num_tetr'])\n",
    "num_channels = 128"
   ]
  },
  {
   "cell_type": "code",
   "execution_count": 21,
   "id": "1694e689-c420-483a-b9c8-26a9ae0f743c",
   "metadata": {
    "tags": []
   },
   "outputs": [],
   "source": [
    "def find_files_with_eeg(directory):\n",
    "    eeg_files = []\n",
    "    for root, dirs, files in os.walk(directory):\n",
    "        for file in files:\n",
    "            if file.endswith('.eeg'):\n",
    "                eeg_files.append(os.path.join(root, file))\n",
    "                \n",
    "    return eeg_files"
   ]
  },
  {
   "cell_type": "code",
   "execution_count": 22,
   "id": "ff384740-b6ef-4931-9f9b-54e869ff0da7",
   "metadata": {
    "tags": []
   },
   "outputs": [],
   "source": [
    "eeg_files=sorted(find_files_with_eeg(mbasedir))"
   ]
  },
  {
   "cell_type": "code",
   "execution_count": 27,
   "id": "cf948651-c3ac-4dc7-bc33-e88afeb9304f",
   "metadata": {
    "tags": []
   },
   "outputs": [
    {
     "name": "stdout",
     "output_type": "stream",
     "text": [
      "Reshaping /adata_pool/merged/JC315-20240406/JC315-20240406_intersleep.eeg from length (573687936,)\n",
      "New eeg_merged shape: (4481937, 128)\n"
     ]
    }
   ],
   "source": [
    "eeg_merged=np.fromfile(eeg_files[0], dtype=np.int16)\n",
    "print('Reshaping',eeg_files[0],'from length',eeg_merged.shape)\n",
    "eeg_merged= eeg_merged.reshape(int(len(eeg_merged)/num_channels),num_channels)\n",
    "print('New eeg_merged shape:',eeg_merged.shape)"
   ]
  },
  {
   "cell_type": "code",
   "execution_count": 26,
   "id": "dceddb8c-5878-40b3-8943-810823d7efc3",
   "metadata": {
    "tags": []
   },
   "outputs": [],
   "source": [
    "eeg=np.fromfile(eeg_files[0], dtype=np.int16)"
   ]
  },
  {
   "cell_type": "code",
   "execution_count": 29,
   "id": "310a1988-03cf-472b-81f1-02b2813ee369",
   "metadata": {
    "tags": []
   },
   "outputs": [
    {
     "data": {
      "text/plain": [
       "array([[  -362,  -1102,  -1669, ...,  -1973,  -2026,  -2161],\n",
       "       [  -213,   -963,  -1431, ...,  -1917,  -1984,  -2105],\n",
       "       [  -257,   -754,  -1273, ...,  -2033,  -2161,  -2173],\n",
       "       ...,\n",
       "       [-18712,  -4554,  -2006, ...,  -2919,  -2845,  -3157],\n",
       "       [-18693,  -4354,  -1703, ...,  -3284,  -3204,  -3456],\n",
       "       [-18404,  -4021,  -1196, ...,  -3010,  -3019,  -3205]], dtype=int16)"
      ]
     },
     "execution_count": 29,
     "metadata": {},
     "output_type": "execute_result"
    }
   ],
   "source": [
    "eeg_merged"
   ]
  },
  {
   "cell_type": "code",
   "execution_count": 9,
   "id": "9570ad9a-6e2c-40a2-9647-45fad9b61588",
   "metadata": {
    "tags": []
   },
   "outputs": [
    {
     "name": "stdout",
     "output_type": "stream",
     "text": [
      "Resampled session timestamps: [0.00000000e+00 8.64001470e+07 1.40659944e+08 1.86045741e+08\n",
      " 1.87050888e+08 2.26713135e+08 2.78998632e+08 3.65398779e+08]\n"
     ]
    }
   ],
   "source": [
    "# load the session timestamps and downsample them\n",
    "session_timestamps=np.loadtxt(basedir+\"processing/\"+animal_name+'/'+date+'/'+'session_shifts.txt')\n",
    "\n",
    "session_timestamps=np.append([0],session_timestamps) # start the first timestamp at 0\n",
    "session_timestamps_down=session_timestamps*downsampled_res\n",
    "print('Resampled session timestamps:',session_timestamps)"
   ]
  },
  {
   "cell_type": "code",
   "execution_count": 10,
   "id": "5418722b-7910-4d66-83f5-9989f395a2fc",
   "metadata": {
    "tags": []
   },
   "outputs": [
    {
     "data": {
      "text/plain": [
       "[<matplotlib.lines.Line2D at 0x7eff9a922940>]"
      ]
     },
     "execution_count": 10,
     "metadata": {},
     "output_type": "execute_result"
    },
    {
     "data": {
      "image/png": "[encoded data removed]",
      "text/plain": [
       "<Figure size 640x480 with 1 Axes>"
      ]
     },
     "metadata": {},
     "output_type": "display_data"
    }
   ],
   "source": [
    "plt.plot(eeg[4078410])"
   ]
  }
 ],
 "metadata": {
  "kernelspec": {
   "display_name": "Python 3 (ipykernel)",
   "language": "python",
   "name": "python3"
  },
  "language_info": {
   "codemirror_mode": {
    "name": "ipython",
    "version": 3
   },
   "file_extension": ".py",
   "mimetype": "text/x-python",
   "name": "python",
   "nbconvert_exporter": "python",
   "pygments_lexer": "ipython3",
   "version": "3.9.18"
  }
 },
 "nbformat": 4,
 "nbformat_minor": 5
}
