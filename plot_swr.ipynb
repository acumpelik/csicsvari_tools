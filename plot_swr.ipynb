{
 "cells": [
  {
   "cell_type": "code",
   "execution_count": 30,
   "id": "4e5a7910-cf85-4b7b-b061-0ff4370aa36e",
   "metadata": {
    "tags": []
   },
   "outputs": [],
   "source": [
    "import os\n",
    "import csv\n",
    "import matplotlib.pyplot as plt\n",
    "import numpy as np\n",
    "from scipy.signal import butter, filtfilt"
   ]
  },
  {
   "cell_type": "markdown",
   "id": "c0e8bd32-a0a8-431a-ba55-4db9c2b887df",
   "metadata": {},
   "source": [
    "### Set session info and path"
   ]
  },
  {
   "cell_type": "code",
   "execution_count": 18,
   "id": "5f6e61eb-bb4b-4fad-9279-1db0c01cfb20",
   "metadata": {
    "tags": []
   },
   "outputs": [],
   "source": [
    "animal_name='JC315'\n",
    "date='20240406'\n",
    "\n",
    "basedir = \"/mnt/adata11/\"\n",
    "mbasedir=\"/adata_pool/merged/\"+animal_name+'-'+date+'/'\n",
    "\n",
    "basename = animal_name+'-'+date"
   ]
  },
  {
   "cell_type": "markdown",
   "id": "00e06365-5b58-41cc-aee9-c174251eb585",
   "metadata": {},
   "source": [
    "### Import metadata"
   ]
  },
  {
   "cell_type": "code",
   "execution_count": 19,
   "id": "c9e2c782-f6bc-444f-a6bb-1110144b6179",
   "metadata": {
    "tags": []
   },
   "outputs": [
    {
     "name": "stdout",
     "output_type": "stream",
     "text": [
      "Metadata for JC315-20240406\n"
     ]
    },
    {
     "data": {
      "text/plain": [
       "{'num_tetr': '32',\n",
       " 'last_pfc_left': '8',\n",
       " 'last_pfc_right': '16',\n",
       " 'session_names': \"['presleep','training1','intersleep','training2','postsleep']\",\n",
       " 'session_idx': '[[1],[2],[3,4,5],[6],[7]]',\n",
       " 'reward_arms': '7,2',\n",
       " 'rewards': 'C,S'}"
      ]
     },
     "execution_count": 19,
     "metadata": {},
     "output_type": "execute_result"
    }
   ],
   "source": [
    "session_metadata = {}\n",
    "with open('session_metadata.csv', mode='r', encoding='utf-8') as file:\n",
    "    reader = csv.DictReader(file, delimiter=\";\")    \n",
    "    for line in reader:\n",
    "        session_id = line.pop('session_id')\n",
    "        session_metadata[session_id] = line\n",
    "        \n",
    "print('Metadata for',basename)\n",
    "session_metadata[basename]"
   ]
  },
  {
   "cell_type": "markdown",
   "id": "6486703b-b206-4623-b227-d1fc9da33224",
   "metadata": {},
   "source": [
    "### Set sampling rate and adjust imported metadata"
   ]
  },
  {
   "cell_type": "code",
   "execution_count": 40,
   "id": "b9508ce2-c099-4968-a30a-c035e8cec16f",
   "metadata": {
    "tags": []
   },
   "outputs": [],
   "source": [
    "sampling_rate_res_old=24000\n",
    "sampling_rate_res=20000\n",
    "sampling_rate_eeg=1250\n",
    "downsampled_res=sampling_rate_res/sampling_rate_res_old\n",
    "\n",
    "num_tetrodes = int(session_metadata[basename]['num_tetr'])\n",
    "session_names = eval(session_metadata[basename]['session_names'])\n",
    "num_channels = 128"
   ]
  },
  {
   "cell_type": "markdown",
   "id": "37eea56d-d652-494f-9f4b-3ebdd0162f20",
   "metadata": {
    "tags": []
   },
   "source": [
    "### Import and merge swr files"
   ]
  },
  {
   "cell_type": "code",
   "execution_count": 21,
   "id": "7e6174ef-ba9b-430e-80a0-f65834eb99ce",
   "metadata": {
    "tags": []
   },
   "outputs": [],
   "source": [
    "sw_merged = []\n",
    "\n",
    "for ii in range(len(session_names)):\n",
    "    sw_file = np.loadtxt(mbasedir+basename+'_'+session_names[ii]+'.sw',dtype=int)\n",
    "    sw_merged.append(sw_file)\n",
    "    \n",
    "sw_merged = np.vstack(sw_merged)"
   ]
  },
  {
   "cell_type": "markdown",
   "id": "619e5623-cd26-43d6-bd51-820f8f48c021",
   "metadata": {},
   "source": [
    "### Import template parameter file"
   ]
  },
  {
   "cell_type": "code",
   "execution_count": 22,
   "id": "d4ad3ffe-7c04-4fd6-b38c-9f172da6f965",
   "metadata": {
    "tags": []
   },
   "outputs": [],
   "source": [
    "with open(mbasedir+'TEMPLATE.par', 'r') as file:\n",
    "    template = [list(map(lambda x: int(x.rstrip('.')), line.split())) for line in file] # to avoid parsing issue with trailing period"
   ]
  },
  {
   "cell_type": "markdown",
   "id": "f5121d66-c326-4e4c-9049-337b942526c0",
   "metadata": {},
   "source": [
    "### Import and merge eeg files"
   ]
  },
  {
   "cell_type": "code",
   "execution_count": 23,
   "id": "1694e689-c420-483a-b9c8-26a9ae0f743c",
   "metadata": {
    "tags": []
   },
   "outputs": [],
   "source": [
    "def find_files_with_eeg(directory):\n",
    "    eeg_files = []\n",
    "    for root, dirs, files in os.walk(directory):\n",
    "        for file in files:\n",
    "            if file.endswith('.eeg'):\n",
    "                eeg_files.append(os.path.join(root, file))\n",
    "                \n",
    "    return eeg_files"
   ]
  },
  {
   "cell_type": "code",
   "execution_count": 24,
   "id": "ff384740-b6ef-4931-9f9b-54e869ff0da7",
   "metadata": {
    "tags": []
   },
   "outputs": [],
   "source": [
    "eeg_files=sorted(find_files_with_eeg(mbasedir))"
   ]
  },
  {
   "cell_type": "code",
   "execution_count": 25,
   "id": "cf948651-c3ac-4dc7-bc33-e88afeb9304f",
   "metadata": {
    "tags": []
   },
   "outputs": [
    {
     "name": "stdout",
     "output_type": "stream",
     "text": [
      "Reshaping /adata_pool/merged/JC315-20240406/JC315-20240406_intersleep.eeg from length (573687936,)\n",
      "New eeg_merged shape: (4481937, 128)\n"
     ]
    }
   ],
   "source": [
    "eeg_merged=np.fromfile(eeg_files[0], dtype=np.int16)\n",
    "print('Reshaping',eeg_files[0],'from length',eeg_merged.shape)\n",
    "eeg_merged= eeg_merged.reshape(int(len(eeg_merged)/num_channels),num_channels)\n",
    "print('New eeg_merged shape:',eeg_merged.shape)"
   ]
  },
  {
   "cell_type": "markdown",
   "id": "b0d33af9-cdcf-4253-a5ee-e837a3489361",
   "metadata": {},
   "source": [
    "### Filter the eeg"
   ]
  },
  {
   "cell_type": "code",
   "execution_count": null,
   "id": "a9974686-5dea-4781-ad04-fcdc51de48a5",
   "metadata": {},
   "outputs": [],
   "source": [
    "bandpass_low = 150\n",
    "bandpass_high = 350"
   ]
  },
  {
   "cell_type": "code",
   "execution_count": 42,
   "id": "b6139301-632a-4c19-82bb-89109797d9f8",
   "metadata": {
    "tags": []
   },
   "outputs": [],
   "source": [
    "def butter_bandpass(bandpass_low, bandpass_high, sampling_rate, order=5):\n",
    "    nyquist = 0.5 * sampling_rate\n",
    "    low = bandpass_low / nyquist\n",
    "    high = bandpass_high / nyquist\n",
    "    b, a = butter(order, [low, high], btype='band')\n",
    "    return b, a"
   ]
  },
  {
   "cell_type": "code",
   "execution_count": 49,
   "id": "bd9dd96c-5020-449d-ac91-4df3e825a586",
   "metadata": {
    "tags": []
   },
   "outputs": [],
   "source": [
    "b, a = butter_bandpass(bandpass_low, bandpass_high, sampling_rate_eeg)\n",
    "eeg_filtered = np.empty_like(eeg_merged)\n",
    "for ii in range(eeg_merged.shape[1]):\n",
    "    eeg_filtered[:,ii] = filtfilt(b, a, eeg_merged[:, ii])"
   ]
  },
  {
   "cell_type": "code",
   "execution_count": 51,
   "id": "832a3031-0698-4d59-9402-b4de9a4eda89",
   "metadata": {
    "tags": []
   },
   "outputs": [
    {
     "data": {
      "text/plain": [
       "array([[   2,    1,    2, ...,   -1,   -1,   -1],\n",
       "       [ -63, -107,  -10, ...,  108,   31,   75],\n",
       "       [-140, -123,  -53, ...,  -34, -115,  -35],\n",
       "       ...,\n",
       "       [-238, -126, -263, ..., -302, -376, -256],\n",
       "       [-260, -100, -233, ..., -438, -490, -408],\n",
       "       [ -47,   -6,   -2, ...,    0,    0,    0]], dtype=int16)"
      ]
     },
     "execution_count": 51,
     "metadata": {},
     "output_type": "execute_result"
    }
   ],
   "source": [
    "eeg_filtered"
   ]
  },
  {
   "cell_type": "markdown",
   "id": "04d6f7ad-f3c5-417c-83aa-e662e72ce9a3",
   "metadata": {},
   "source": [
    "### Load the session timestamps and downsample them"
   ]
  },
  {
   "cell_type": "code",
   "execution_count": 54,
   "id": "9570ad9a-6e2c-40a2-9647-45fad9b61588",
   "metadata": {
    "tags": []
   },
   "outputs": [
    {
     "name": "stdout",
     "output_type": "stream",
     "text": [
      "Resampled session timestamps: [0.00000000e+00 7.20001225e+07 1.17216620e+08 1.55038118e+08\n",
      " 1.55875740e+08 1.88927612e+08 2.32498860e+08 3.04498982e+08]\n"
     ]
    }
   ],
   "source": [
    "session_timestamps=np.loadtxt(basedir+\"processing/\"+animal_name+'/'+date+'/'+'session_shifts.txt')\n",
    "\n",
    "session_timestamps=np.append([0],session_timestamps) # start the first timestamp at 0\n",
    "session_timestamps_down=session_timestamps*downsampled_res\n",
    "print('Resampled session timestamps:',session_timestamps_down)"
   ]
  },
  {
   "cell_type": "code",
   "execution_count": 55,
   "id": "310a1988-03cf-472b-81f1-02b2813ee369",
   "metadata": {
    "tags": []
   },
   "outputs": [
    {
     "name": "stdout",
     "output_type": "stream",
     "text": [
      "eeg_filtered shape: (4481937, 128)\n",
      "sw_merged shape: (6925, 3)\n"
     ]
    }
   ],
   "source": [
    "print('eeg_filtered shape:',eeg_filtered.shape)\n",
    "print('sw_merged shape:',sw_merged.shape)"
   ]
  },
  {
   "cell_type": "markdown",
   "id": "3451d302-8fc8-4540-9eb3-856b901a77ea",
   "metadata": {},
   "source": [
    "## Choose and plot a SWR event"
   ]
  },
  {
   "cell_type": "code",
   "execution_count": 63,
   "id": "5418722b-7910-4d66-83f5-9989f395a2fc",
   "metadata": {
    "tags": []
   },
   "outputs": [
    {
     "name": "stdout",
     "output_type": "stream",
     "text": [
      "Channels for tetrode 28: [36, 37, 38, 39]\n",
      "SWR peak timestamp: 3362006\n"
     ]
    },
    {
     "data": {
      "text/plain": [
       "[<matplotlib.lines.Line2D at 0x7fb329a5fa90>]"
      ]
     },
     "execution_count": 63,
     "metadata": {},
     "output_type": "execute_result"
    },
    {
     "data": {
      "image/png": "[encoded data removed]",
      "text/plain": [
       "<Figure size 640x480 with 1 Axes>"
      ]
     },
     "metadata": {},
     "output_type": "display_data"
    }
   ],
   "source": [
    "tetrode_par = 28\n",
    "\n",
    "tetrode_par_idx = template[tetrode_par+3]\n",
    "channels = tetrode_par_idx[1:]\n",
    "print(f'Channels for tetrode {tetrode_par}:', channels)\n",
    "\n",
    "sw_idx = 700\n",
    "sw_peak = sw_merged[sw_idx,1]\n",
    "print('SWR peak timestamp:',sw_peak)\n",
    "step_size = 100 # 50 corresponds to 40 ms at a 1.25 kHz sampling rate\n",
    "\n",
    "plt.plot(eeg_filtered[sw_peak-step_size:sw_peak+step_size,channels[0]])"
   ]
  }
 ],
 "metadata": {
  "kernelspec": {
   "display_name": "Python 3 (ipykernel)",
   "language": "python",
   "name": "python3"
  },
  "language_info": {
   "codemirror_mode": {
    "name": "ipython",
    "version": 3
   },
   "file_extension": ".py",
   "mimetype": "text/x-python",
   "name": "python",
   "nbconvert_exporter": "python",
   "pygments_lexer": "ipython3",
   "version": "3.9.18"
  }
 },
 "nbformat": 4,
 "nbformat_minor": 5
}
