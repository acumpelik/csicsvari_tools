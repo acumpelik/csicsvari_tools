{
 "cells": [
  {
   "cell_type": "markdown",
   "metadata": {
    "tags": []
   },
   "source": [
    "<div class=\"alert alert-block alert-info\">\n",
    "This script merges all eeg files for a session and splits them back according to session timestamps. The Jupyer Notebook was made for a single\n",
    "session, and the Python script is better for multiple sessions.\n",
    "</div>"
   ]
  },
  {
   "cell_type": "code",
   "execution_count": 40,
   "metadata": {
    "tags": []
   },
   "outputs": [],
   "source": [
    "import numpy as np\n",
    "import os\n",
    "import csv\n",
    "import json\n",
    "import argparse"
   ]
  },
  {
   "cell_type": "markdown",
   "metadata": {},
   "source": [
    "## Variables\n",
    "These variables may change:"
   ]
  },
  {
   "cell_type": "code",
   "execution_count": 41,
   "metadata": {
    "collapsed": false,
    "jupyter": {
     "outputs_hidden": false
    },
    "tags": []
   },
   "outputs": [],
   "source": [
    "animal_name='JC258'\n",
    "date='20210626'\n",
    "\n",
    "basedir = \"/mnt/adata9/\"\n",
    "mbasedir=\"/adata_pool/merged/\"+animal_name+'-'+date+'/'"
   ]
  },
  {
   "cell_type": "markdown",
   "metadata": {},
   "source": [
    "These variables do not change:"
   ]
  },
  {
   "cell_type": "code",
   "execution_count": 42,
   "metadata": {},
   "outputs": [],
   "source": [
    "sample_rate_res_old=24000\n",
    "\n",
    "sample_rate_whl=39.0625\n",
    "sample_rate_res=20000\n",
    "\n",
    "sample_rate_eegh=5000\n",
    "\n",
    "downsampled_res=sample_rate_res/sample_rate_res_old"
   ]
  },
  {
   "cell_type": "markdown",
   "metadata": {},
   "source": [
    "## Import session metadata:"
   ]
  },
  {
   "cell_type": "code",
   "execution_count": 43,
   "metadata": {
    "tags": []
   },
   "outputs": [],
   "source": [
    "session_metadata = {}\n",
    "with open('session_metadata.csv', mode='r', encoding='utf-8') as file:\n",
    "    reader = csv.DictReader(file, delimiter=\";\")    \n",
    "    for line in reader:\n",
    "        session_id = line.pop('session_id')\n",
    "        session_metadata[session_id] = line"
   ]
  },
  {
   "cell_type": "code",
   "execution_count": 44,
   "metadata": {
    "tags": []
   },
   "outputs": [
    {
     "name": "stdout",
     "output_type": "stream",
     "text": [
      "Metadata for JC258-20210626\n"
     ]
    },
    {
     "data": {
      "text/plain": [
       "{'num_tetr': '24',\n",
       " 'last_pfc_left': '8',\n",
       " 'last_pfc_right': '15',\n",
       " 'session_names': \"['training1','intersleep','training2']\",\n",
       " 'session_idx': '[[1],[2],[3]]',\n",
       " 'reward_arms': '4,8',\n",
       " 'rewards': 'C,H'}"
      ]
     },
     "execution_count": 44,
     "metadata": {},
     "output_type": "execute_result"
    }
   ],
   "source": [
    "basename = animal_name+'-'+date\n",
    "print('Metadata for',basename)\n",
    "session_metadata[basename]"
   ]
  },
  {
   "cell_type": "code",
   "execution_count": 45,
   "metadata": {
    "tags": []
   },
   "outputs": [],
   "source": [
    "num_tetrodes = int(session_metadata[basename]['num_tetr'])\n",
    "\n",
    "session_idx = json.loads(session_metadata[basename]['session_idx'])\n",
    "\n",
    "session_names_str = session_metadata[basename]['session_names']\n",
    "session_names_str = session_names_str.replace(\"'\",'\"') # the single quotes aren't being read in JSON, but I can't use \" in the csv because it's a str delimiter\n",
    "session_names = json.loads(session_names_str)\n",
    "\n",
    "reward_arms_str = session_metadata[basename]['reward_arms']\n",
    "reward_arms = np.array(list(map(int, reward_arms_str.split(','))))"
   ]
  },
  {
   "cell_type": "markdown",
   "metadata": {},
   "source": [
    "## Merge and split eegh files and export reward arm files"
   ]
  },
  {
   "cell_type": "code",
   "execution_count": 46,
   "metadata": {
    "tags": []
   },
   "outputs": [],
   "source": [
    "def find_files_with_eegh(directory):\n",
    "    eegh_files = []\n",
    "    for root, dirs, files in os.walk(directory):\n",
    "        for file in files:\n",
    "            if 'eegh' in file:\n",
    "                eegh_files.append(os.path.join(root, file))\n",
    "                \n",
    "    return eegh_files"
   ]
  },
  {
   "cell_type": "code",
   "execution_count": 47,
   "metadata": {
    "tags": []
   },
   "outputs": [],
   "source": [
    "# basedir='D:\\github/test/'\n",
    "# mbasedir=\"D:\\github/test\\merged\"+animal_name+'-'+date+'/'\n",
    "if not os.path.isdir(mbasedir):\n",
    "    os.makedirs(mbasedir)\n",
    "directory_path_eegh = basedir+\"eeg/\"+animal_name+'/'+date+'/'"
   ]
  },
  {
   "cell_type": "code",
   "execution_count": 48,
   "metadata": {
    "tags": []
   },
   "outputs": [
    {
     "name": "stdout",
     "output_type": "stream",
     "text": [
      "Found eegh files:\n",
      "/mnt/adata9/eeg/JC258/20210626/JC258-20210626_01.eegh\n",
      "/mnt/adata9/eeg/JC258/20210626/JC258-20210626_02.eegh\n",
      "/mnt/adata9/eeg/JC258/20210626/JC258-20210626_03.eegh\n",
      "(38609536, 24)\n"
     ]
    }
   ],
   "source": [
    "# find all eegh files in a session\n",
    "eegh_files = sorted(find_files_with_eegh(directory_path_eegh)) # sort the filenames numerically\n",
    "print('Found eegh files:')\n",
    "for file in eegh_files:\n",
    "    print(file)\n",
    "\n",
    "# initialize a merged eegh file and add the first file to it\n",
    "eegh_merged=np.fromfile(eegh_files[0], dtype=np.int16)\n",
    "# reshape the first file (1D to 2D array) so that each row corresponds to one tetrode\n",
    "eegh_merged= eegh_merged.reshape(int(len(eegh_merged)/num_tetrodes),num_tetrodes)\n",
    "\n",
    "# iterate over the other files and add them to the large merged file\n",
    "for eegh_file_i in range(1,len(eegh_files)):\n",
    "    eegh_t=np.fromfile(eegh_files[eegh_file_i], dtype=np.int16)\n",
    "    eegh_t= eegh_t.reshape(int(len(eegh_t)/num_tetrodes),num_tetrodes)\n",
    "    eegh_merged=np.append(eegh_merged,eegh_t,axis=0)\n",
    "\n",
    "print(eegh_merged.shape)\n",
    "    \n",
    "# calculate the total length (num timestamps) of the merged eegh file\n",
    "length_eegh_merged=eegh_merged.shape[0]"
   ]
  },
  {
   "cell_type": "code",
   "execution_count": 49,
   "metadata": {
    "tags": []
   },
   "outputs": [],
   "source": [
    "# load the session timestamps and downsample them\n",
    "session_timestamps=np.loadtxt(basedir+\"processing/\"+animal_name+'/'+date+'/'+'session_shifts.txt')\n",
    "\n",
    "session_timestamps=np.append([0],session_timestamps) # start the first timestamp at 0\n",
    "session_timestamps_down=session_timestamps*downsampled_res\n",
    "\n",
    "for session_idx_i in range(len(session_idx)):\n",
    "    # generate reward arms files for the training session files\n",
    "    if session_names[session_idx_i]=='training1' or session_names[session_idx_i]=='training2':\n",
    "        np.savetxt(mbasedir+animal_name+'-'+date+'_'+session_names[session_idx_i]+'.reward_arms', reward_arms, fmt='%i',newline=\" \")\n",
    "    \n",
    "    # cut the eegh files according to the session timestamps and write them to the merged folder\n",
    "    start_cut=session_idx[session_idx_i][0]-1\n",
    "    end_cut=session_idx[session_idx_i][-1]\n",
    "    start_eegh=int(session_timestamps_down[start_cut]/sample_rate_res*sample_rate_eegh)\n",
    "    end_eegh=int(session_timestamps_down[end_cut]/sample_rate_res*sample_rate_eegh)\n",
    "\n",
    "    eegh_temp=eegh_merged[start_eegh:end_eegh,:]\n",
    "\n",
    "    eegh_temp.tofile(mbasedir+animal_name+'-'+date+'_'+session_names[session_idx_i]+'.eegh')"
   ]
  }
 ],
 "metadata": {
  "kernelspec": {
   "display_name": "Python 3 (ipykernel)",
   "language": "python",
   "name": "python3"
  },
  "language_info": {
   "codemirror_mode": {
    "name": "ipython",
    "version": 3
   },
   "file_extension": ".py",
   "mimetype": "text/x-python",
   "name": "python",
   "nbconvert_exporter": "python",
   "pygments_lexer": "ipython3",
   "version": "3.9.18"
  }
 },
 "nbformat": 4,
 "nbformat_minor": 4
}
