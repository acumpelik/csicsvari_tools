{
 "cells": [
  {
   "cell_type": "markdown",
   "metadata": {
    "tags": []
   },
   "source": [
    "<div class=\"alert alert-block alert-info\">\n",
    "This script merges all eeg files for a session and splits them back according to session timestamps. The Jupyer Notebook works well for a single\n",
    "session/troubleshooting, and the Python script is better for multiple sessions.\n",
    "</div>"
   ]
  },
  {
   "cell_type": "code",
   "execution_count": 39,
   "metadata": {
    "tags": []
   },
   "outputs": [],
   "source": [
    "import numpy as np\n",
    "import os\n",
    "import csv\n",
    "import json\n",
    "import argparse"
   ]
  },
  {
   "cell_type": "markdown",
   "metadata": {},
   "source": [
    "## Variables\n",
    "These variables may change:"
   ]
  },
  {
   "cell_type": "code",
   "execution_count": 40,
   "metadata": {
    "collapsed": false,
    "jupyter": {
     "outputs_hidden": false
    },
    "tags": []
   },
   "outputs": [],
   "source": [
    "animal_name='JC315'\n",
    "date='20240406'\n",
    "\n",
    "basedir = \"/mnt/adata11/\"\n",
    "mbasedir=\"/adata_pool/merged/\"+animal_name+'-'+date+'/'"
   ]
  },
  {
   "cell_type": "markdown",
   "metadata": {},
   "source": [
    "These variables do not change:"
   ]
  },
  {
   "cell_type": "code",
   "execution_count": 41,
   "metadata": {},
   "outputs": [],
   "source": [
    "sample_rate_res_old=24000\n",
    "\n",
    "sample_rate_whl=39.0625\n",
    "sample_rate_res=20000\n",
    "\n",
    "sample_rate_eeg=1250\n",
    "\n",
    "downsampled_res=sample_rate_res/sample_rate_res_old"
   ]
  },
  {
   "cell_type": "markdown",
   "metadata": {},
   "source": [
    "## Import session metadata:"
   ]
  },
  {
   "cell_type": "code",
   "execution_count": 42,
   "metadata": {
    "tags": []
   },
   "outputs": [],
   "source": [
    "session_metadata = {}\n",
    "with open('session_metadata.csv', mode='r', encoding='utf-8') as file:\n",
    "    reader = csv.DictReader(file, delimiter=\";\")    \n",
    "    for line in reader:\n",
    "        session_id = line.pop('session_id')\n",
    "        session_metadata[session_id] = line"
   ]
  },
  {
   "cell_type": "code",
   "execution_count": 43,
   "metadata": {
    "tags": []
   },
   "outputs": [
    {
     "name": "stdout",
     "output_type": "stream",
     "text": [
      "Metadata for JC315-20240406\n"
     ]
    },
    {
     "data": {
      "text/plain": [
       "{'num_tetr': '32',\n",
       " 'last_pfc_left': '8',\n",
       " 'last_pfc_right': '16',\n",
       " 'session_names': \"['presleep','training1','intersleep','training2','postsleep']\",\n",
       " 'session_idx': '[[1],[2],[3,4,5],[6],[7]]',\n",
       " 'reward_arms': '7,2',\n",
       " 'rewards': 'C,S'}"
      ]
     },
     "execution_count": 43,
     "metadata": {},
     "output_type": "execute_result"
    }
   ],
   "source": [
    "basename = animal_name+'-'+date\n",
    "print('Metadata for',basename)\n",
    "session_metadata[basename]"
   ]
  },
  {
   "cell_type": "code",
   "execution_count": 44,
   "metadata": {
    "tags": []
   },
   "outputs": [],
   "source": [
    "num_tetrodes = int(session_metadata[basename]['num_tetr'])\n",
    "\n",
    "session_idx = json.loads(session_metadata[basename]['session_idx'])\n",
    "\n",
    "session_names_str = session_metadata[basename]['session_names']\n",
    "session_names_str = session_names_str.replace(\"'\",'\"') # the single quotes aren't being read in JSON, but I can't use \" in the csv because it's a str delimiter\n",
    "session_names = json.loads(session_names_str)\n",
    "\n",
    "reward_arms_str = session_metadata[basename]['reward_arms']\n",
    "reward_arms = np.array(list(map(int, reward_arms_str.split(','))))"
   ]
  },
  {
   "cell_type": "code",
   "execution_count": 45,
   "metadata": {
    "tags": []
   },
   "outputs": [],
   "source": [
    "# Num tetrodes is fixed\n",
    "# Jozsef's script for generating eeg files doesn't use the par file; the dead channels still get recorded, so all of them are included\n",
    "num_channels = 128"
   ]
  },
  {
   "cell_type": "markdown",
   "metadata": {},
   "source": [
    "## Merge and split eeg files"
   ]
  },
  {
   "cell_type": "code",
   "execution_count": 46,
   "metadata": {
    "tags": []
   },
   "outputs": [],
   "source": [
    "def find_files_with_eeg(directory):\n",
    "    eeg_files = []\n",
    "    for root, dirs, files in os.walk(directory):\n",
    "        for file in files:\n",
    "            if file.endswith('.eeg'):\n",
    "                eeg_files.append(os.path.join(root, file))\n",
    "                \n",
    "    return eeg_files"
   ]
  },
  {
   "cell_type": "code",
   "execution_count": 47,
   "metadata": {
    "tags": []
   },
   "outputs": [],
   "source": [
    "# basedir='D:\\github/test/'\n",
    "# mbasedir=\"D:\\github/test\\merged\"+animal_name+'-'+date+'/'\n",
    "if not os.path.isdir(mbasedir):\n",
    "    os.makedirs(mbasedir)\n",
    "directory_path_eeg = basedir+\"eeg/\"+animal_name+'/'+date+'/'"
   ]
  },
  {
   "cell_type": "code",
   "execution_count": 48,
   "metadata": {
    "tags": []
   },
   "outputs": [
    {
     "name": "stdout",
     "output_type": "stream",
     "text": [
      "Reshaping /mnt/adata11/eeg/JC315/20240406/JC315-20240406_01.eeg from length (576000000,)\n",
      "New eeg_merged shape: (4500000, 128)\n",
      "Reshaping /mnt/adata11/eeg/JC315/20240406/JC315-20240406_02.eeg from length (361730048,)\n",
      "New eeg_merged shape: (2826016, 128)\n",
      "Reshaping /mnt/adata11/eeg/JC315/20240406/JC315-20240406_03.eeg from length (302571520,)\n",
      "New eeg_merged shape: (2363840, 128)\n",
      "Reshaping /mnt/adata11/eeg/JC315/20240406/JC315-20240406_04.eeg from length (6696960,)\n",
      "New eeg_merged shape: (52320, 128)\n",
      "Reshaping /mnt/adata11/eeg/JC315/20240406/JC315-20240406_05.eeg from length (264413184,)\n",
      "New eeg_merged shape: (2065728, 128)\n",
      "Reshaping /mnt/adata11/eeg/JC315/20240406/JC315-20240406_06.eeg from length (348569600,)\n",
      "New eeg_merged shape: (2723200, 128)\n",
      "Reshaping /mnt/adata11/eeg/JC315/20240406/JC315-20240406_07.eeg from length (576000000,)\n",
      "New eeg_merged shape: (4500000, 128)\n",
      "Final eeg_merged shape: (19031104, 128)\n"
     ]
    }
   ],
   "source": [
    "# find all eeg files in a session\n",
    "eeg_files = sorted(find_files_with_eeg(directory_path_eeg)) # sort the filenames numerically\n",
    "\n",
    "# initialize a merged eeg file and add the first file to it\n",
    "eeg_merged=np.fromfile(eeg_files[0], dtype=np.int16)\n",
    "print('Reshaping',eeg_files[0],'from length',eeg_merged.shape)\n",
    "# reshape the first file (1D to 2D array) so that each row corresponds to one tetrode\n",
    "eeg_merged= eeg_merged.reshape(int(len(eeg_merged)/num_channels),num_channels)\n",
    "print('New eeg_merged shape:',eeg_merged.shape)\n",
    "\n",
    "# iterate over the other files and add them to the large merged file\n",
    "for eeg_file_i in range(1,len(eeg_files)):\n",
    "    eeg_t=np.fromfile(eeg_files[eeg_file_i], dtype=np.int16)\n",
    "    print('Reshaping',eeg_files[eeg_file_i], 'from length',eeg_t.shape)\n",
    "    eeg_t= eeg_t.reshape(int(len(eeg_t)/num_channels),num_channels)\n",
    "    print('New eeg_merged shape:',eeg_t.shape)\n",
    "    eeg_merged=np.append(eeg_merged,eeg_t,axis=0)\n",
    "\n",
    "print('Final eeg_merged shape:',eeg_merged.shape)\n",
    "    \n",
    "# calculate the total length (num timestamps) of the merged eeg file\n",
    "length_eeg_merged=eeg_merged.shape[0]"
   ]
  },
  {
   "cell_type": "code",
   "execution_count": 49,
   "metadata": {
    "tags": []
   },
   "outputs": [
    {
     "name": "stdout",
     "output_type": "stream",
     "text": [
      "Resampled session timestamps: [0.00000000e+00 8.64001470e+07 1.40659944e+08 1.86045741e+08\n",
      " 1.87050888e+08 2.26713135e+08 2.78998632e+08 3.65398779e+08]\n",
      "Done merging eeg files for JC315-20240406\n"
     ]
    }
   ],
   "source": [
    "# load the session timestamps and downsample them\n",
    "session_timestamps=np.loadtxt(basedir+\"processing/\"+animal_name+'/'+date+'/'+'session_shifts.txt')\n",
    "\n",
    "session_timestamps=np.append([0],session_timestamps) # start the first timestamp at 0\n",
    "session_timestamps_down=session_timestamps*downsampled_res\n",
    "print('Resampled session timestamps:',session_timestamps)\n",
    "\n",
    "for session_idx_i in range(len(session_idx)):\n",
    "    # generate reward arms files for the training session files\n",
    "    if session_names[session_idx_i]=='training1' or session_names[session_idx_i]=='training2':\n",
    "        np.savetxt(mbasedir+animal_name+'-'+date+'_'+session_names[session_idx_i]+'.reward_arms', reward_arms, fmt='%i',newline=\" \")\n",
    "    \n",
    "    # cut the eeg files according to the session timestamps and write them to the merged folder\n",
    "    start_cut=session_idx[session_idx_i][0]-1\n",
    "    end_cut=session_idx[session_idx_i][-1]\n",
    "    start_eeg=int(session_timestamps_down[start_cut]/sample_rate_res*sample_rate_eeg)\n",
    "    end_eeg=int(session_timestamps_down[end_cut]/sample_rate_res*sample_rate_eeg)\n",
    "\n",
    "    eeg_temp=eeg_merged[start_eeg:end_eeg,:]\n",
    "\n",
    "    eeg_temp.tofile(mbasedir+animal_name+'-'+date+'_'+session_names[session_idx_i]+'.eeg')\n",
    "    \n",
    "print('Done merging eeg files for',basename)"
   ]
  }
 ],
 "metadata": {
  "kernelspec": {
   "display_name": "Python 3 (ipykernel)",
   "language": "python",
   "name": "python3"
  },
  "language_info": {
   "codemirror_mode": {
    "name": "ipython",
    "version": 3
   },
   "file_extension": ".py",
   "mimetype": "text/x-python",
   "name": "python",
   "nbconvert_exporter": "python",
   "pygments_lexer": "ipython3",
   "version": "3.9.18"
  }
 },
 "nbformat": 4,
 "nbformat_minor": 4
}
