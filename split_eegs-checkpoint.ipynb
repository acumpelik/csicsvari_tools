{
 "cells": [
  {
   "cell_type": "code",
   "execution_count": 3,
   "id": "84c5976c-3a9a-466d-a07e-44a723dbab48",
   "metadata": {},
   "outputs": [],
   "source": [
    "import numpy as np"
   ]
  },
  {
   "cell_type": "code",
   "execution_count": 5,
   "id": "a0e9d220-d311-4d25-a3eb-695382a31e0b",
   "metadata": {},
   "outputs": [],
   "source": [
    "path = \"/Users/andrea/adata_laptop/JC315-20240401/\"\n",
    "basename=\"JC315-20240401_01\""
   ]
  },
  {
   "cell_type": "code",
   "execution_count": 15,
   "id": "8c764c1f-3e11-47d5-9368-f99d4f86df58",
   "metadata": {},
   "outputs": [],
   "source": [
    "eeg = np.fromfile(path+\"/\"+basename+\".eeg\", dtype=np.uint16)"
   ]
  },
  {
   "cell_type": "code",
   "execution_count": 19,
   "id": "fd957da0-cc4a-4fab-b13f-75ce8adebc27",
   "metadata": {},
   "outputs": [
    {
     "data": {
      "text/plain": [
       "576000000"
      ]
     },
     "execution_count": 19,
     "metadata": {},
     "output_type": "execute_result"
    }
   ],
   "source": [
    "eeg.size"
   ]
  }
 ],
 "metadata": {
  "kernelspec": {
   "display_name": "Python 3 (ipykernel)",
   "language": "python",
   "name": "python3"
  },
  "language_info": {
   "codemirror_mode": {
    "name": "ipython",
    "version": 3
   },
   "file_extension": ".py",
   "mimetype": "text/x-python",
   "name": "python",
   "nbconvert_exporter": "python",
   "pygments_lexer": "ipython3",
   "version": "3.11.7"
  }
 },
 "nbformat": 4,
 "nbformat_minor": 5
}
